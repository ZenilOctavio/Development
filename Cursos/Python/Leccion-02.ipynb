{
 "cells": [
  {
   "cell_type": "markdown",
   "metadata": {},
   "source": [
    "# LECCION 02"
   ]
  },
  {
   "cell_type": "markdown",
   "metadata": {},
   "source": [
    "## Entorno virtual"
   ]
  },
  {
   "cell_type": "markdown",
   "metadata": {},
   "source": [
    "Un entorno virtual es un espacio aislado para trabajar con un proyecto de phyton, donde las versiones de las bibliotecas y el kernel están bien definidas, para que al momento de exportar bibliotecas, estas se mantengan funcionales y no sea necesario configurar la maquina de importación, evitando posibles fallos en el uso de otras bibliotecas."
   ]
  },
  {
   "cell_type": "markdown",
   "metadata": {},
   "source": [
    "### Crear un entorno virtual"
   ]
  },
  {
   "cell_type": "markdown",
   "metadata": {},
   "source": [
    "Para crear un entorno virtual es necesario abrir una terminal, en la que nos localizaremos en un directorio."
   ]
  },
  {
   "cell_type": "markdown",
   "metadata": {},
   "source": [
    "Ya una vez dentro de nuestro directorio, llamaremos a la biblioteca venv para crear entornos virtuales, por lo que ejecutaremos el siguiente comaando en consola.\n",
    "\n",
    "{version de python} -m venv {nombre de tu entorno}\n",
    "\n",
    "EJ\n",
    "#### py -m venv miEntorno"
   ]
  },
  {
   "cell_type": "markdown",
   "metadata": {},
   "source": [
    "Una vez creado el entorno vamos a ativarlo mediante el comando:\n",
    "#### miEntorno/Scripts/activate.bat\n",
    "y para desacrivarlo \n",
    "#### miEntorno/Scripts/desactivate.bat"
   ]
  },
  {
   "cell_type": "markdown",
   "metadata": {},
   "source": [
    "### ¿Que es un paquete?"
   ]
  },
  {
   "cell_type": "markdown",
   "metadata": {},
   "source": [
    "Un paquete es una biblioteca de código el cual podemos descargar para utilizarlo en nuestro proyecto y agilizar los tiempos de producción del mismo."
   ]
  },
  {
   "cell_type": "markdown",
   "metadata": {},
   "source": [
    "Para instalar un paquete es necesario ejecutar el comando de la siguiente forma:\n",
    "#### py -m pip install {nombre del módulo}\n",
    "\n",
    "Pero también esta la opción de hacerlo con una versión específica de python:\n",
    "#### py -{version} -m pip install {nombre del módulo}"
   ]
  },
  {
   "cell_type": "markdown",
   "metadata": {},
   "source": [
    "Para ver que paquetes están instalados, utilizar el comando:\n",
    "#### py -m pip freeze"
   ]
  }
 ],
 "metadata": {
  "interpreter": {
   "hash": "df2a6c38b64f9066533015086ad129b788e1a9c3a57e5828af477b2b9acd4186"
  },
  "kernelspec": {
   "display_name": "Python 3.10.4 ('miEntorno': venv)",
   "language": "python",
   "name": "python3"
  },
  "language_info": {
   "name": "python",
   "version": "3.10.4"
  },
  "orig_nbformat": 4
 },
 "nbformat": 4,
 "nbformat_minor": 2
}
