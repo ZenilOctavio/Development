{
 "cells": [
  {
   "cell_type": "markdown",
   "metadata": {},
   "source": [
    "# LECCION 03"
   ]
  },
  {
   "cell_type": "markdown",
   "metadata": {},
   "source": [
    "## Lógica booleana"
   ]
  },
  {
   "cell_type": "markdown",
   "metadata": {},
   "source": [
    "Cuando programamos podemos utilizar un recurso muy útil para crear secuencias de código ágiles y responsivas dependiendo de una situación u otra. El recurso del que hablo es la lógica booleana, la cual se basa en establecer proposiciones las cuales solo pueden tomar 2 valores, True or False."
   ]
  },
  {
   "cell_type": "code",
   "execution_count": 2,
   "metadata": {},
   "outputs": [
    {
     "name": "stdout",
     "output_type": "stream",
     "text": [
      "La proposición uno es:  False\n",
      "La proposición dos es:  True\n"
     ]
    }
   ],
   "source": [
    "x = 15;\n",
    "y = 20;\n",
    "\n",
    "prop1 = x >= y\n",
    "prop2 = x <= y\n",
    "\n",
    "print(\"La proposición uno es: \",prop1);\n",
    "print(\"La proposición dos es: \",prop2);"
   ]
  },
  {
   "cell_type": "markdown",
   "metadata": {},
   "source": [
    "En el código anterior declaramos dos variables, x con el valor de 15 y, y con el valor de 20, a lo que evaluamos dos proposiciones, la primera en la que evaluamos, ¿Es x mayor o igual a y?, osea 15 >= 20, a lo que uno puede decir que no, y el caso contrario, perteneciente a la segunda proposición, si es verdadero, por lo que el programa nos devolvió un False y True respectivamente."
   ]
  },
  {
   "cell_type": "markdown",
   "metadata": {},
   "source": [
    "Evaluadores lógicos. Estas serán una de mis principales herramientas a la hora de trabajar con booleanos:\n",
    "###### Menor que (<)           Mayor que (>)           Igual que (==) \n",
    "###### Menor o igual que (<=)  Mayor o igual que (>=)  Desigual que (!=) "
   ]
  },
  {
   "cell_type": "markdown",
   "metadata": {},
   "source": [
    "### If, elif, y else"
   ]
  },
  {
   "cell_type": "markdown",
   "metadata": {},
   "source": [
    "If evalúa un valor booleano y si es verdadero, ejecuta un bloque de código."
   ]
  },
  {
   "cell_type": "code",
   "execution_count": 8,
   "metadata": {},
   "outputs": [
    {
     "name": "stdout",
     "output_type": "stream",
     "text": [
      "True\n",
      "El valor de ( x: 34 ) es mayor a ( y: 20 ).\n"
     ]
    }
   ],
   "source": [
    "x = 34\n",
    "y = 20\n",
    "\n",
    "print(x>y)  #Esta línea resultará en verdadero\n",
    "if x>y:\n",
    "    print(\"El valor de ( x:\",x,\") es mayor a ( y:\",y,\").\")\n",
    "\n",
    "#También se puede evaluar una variable\n",
    "#prop = x>y\n",
    "#if prop:\n",
    "    #print(\"El valor de ( x:\",x,\") es mayor a ( y:\",y,\").\")"
   ]
  },
  {
   "cell_type": "markdown",
   "metadata": {},
   "source": [
    "Elif sirve como una segunda evaluación dependiente de if, y se evaluará su proposición si es que el if al que está anidado fue falso."
   ]
  },
  {
   "cell_type": "code",
   "execution_count": 7,
   "metadata": {},
   "outputs": [
    {
     "name": "stdout",
     "output_type": "stream",
     "text": [
      "False\n",
      "True\n",
      "El valor de ( y: 20 ) es mayor a ( x: 15 ).\n"
     ]
    }
   ],
   "source": [
    "x = 15\n",
    "y = 20\n",
    "\n",
    "print(x>y)\n",
    "print(x<y)\n",
    "if x>y:\n",
    "    print(\"El valor de ( x:\",x,\") es mayor a ( y:\",y,\").\")\n",
    "elif x<y:\n",
    "    print(\"El valor de ( y:\",y,\") es mayor a ( x:\",x,\").\")"
   ]
  },
  {
   "cell_type": "markdown",
   "metadata": {},
   "source": [
    "Else sirve como ultimo recurso, el cual se ejecutará si a la línea de condicionales anteriores a los que está anidados fue falso, sin evaluar alguna proposición"
   ]
  },
  {
   "cell_type": "code",
   "execution_count": 9,
   "metadata": {},
   "outputs": [
    {
     "name": "stdout",
     "output_type": "stream",
     "text": [
      "False\n",
      "False\n",
      "True\n",
      "Ambos valores son iguales\n"
     ]
    }
   ],
   "source": [
    "x = 15\n",
    "y = 15\n",
    "\n",
    "print(x>y)\n",
    "print(x<y)\n",
    "print(x==y)\n",
    "if x>y:\n",
    "    print(\"El valor de ( x:\",x,\") es mayor a ( y:\",y,\").\")\n",
    "elif x<y:\n",
    "    print(\"El valor de ( y:\",y,\") es mayor a ( x:\",x,\").\")\n",
    "else:\n",
    "    print(\"Ambos valores son iguales\")\n",
    "#El único caso en el que un valor no sea ni menor ni mayor a otro, es en el que ambos tienen el mismo valor"
   ]
  },
  {
   "cell_type": "markdown",
   "metadata": {},
   "source": [
    "#### Operadores lógicos\n",
    "Estos operadores nos sirven para hacer operaciones con valores booleanos.\n",
    "<p>and. Este nos devuelve True únicamente si ambos valores son True por si solos</p>\n",
    "<p>or. Este nos devuelve False únicamente si ambos valores son False por si solos</p>"
   ]
  },
  {
   "cell_type": "code",
   "execution_count": 13,
   "metadata": {},
   "outputs": [
    {
     "name": "stdout",
     "output_type": "stream",
     "text": [
      "Rango de edad admitido para la edad 1\n",
      "Rango de edad renegado para la edad 2\n",
      "Rango de edad renegado para la edad 3\n"
     ]
    }
   ],
   "source": [
    "#Programa para evaluar si una edad se encuentra en un rango adecuado\n",
    "#Para subir a la montaña rusa se necesita estar en un rango de edad de 18-50\n",
    "\n",
    "edad1 = 20\n",
    "edad2 = 15\n",
    "edad3 = 60\n",
    "\n",
    "if (edad1 >= 18)and( edad1 <= 50 ):\n",
    "    print(\"Rango de edad admitido para la edad 1\")\n",
    "else:\n",
    "    print(\"Rango de edad renegado para la edad 1\")\n",
    "if (edad2 >= 18)and( edad2 <= 50 ):\n",
    "    print(\"Rango de edad admitido para la edad 2\")\n",
    "else:\n",
    "    print(\"Rango de edad renegado para la edad 2\")\n",
    "if (edad3 >= 18)and( edad3 <= 50 ):\n",
    "    print(\"Rango de edad admitido para la edad 3\")\n",
    "else:\n",
    "    print(\"Rango de edad renegado para la edad 3\")"
   ]
  },
  {
   "cell_type": "code",
   "execution_count": 16,
   "metadata": {},
   "outputs": [
    {
     "name": "stdout",
     "output_type": "stream",
     "text": [
      "Edad inválida para el premio\n",
      "Edad inválida para el premio\n",
      "Edad válida para el premio\n"
     ]
    }
   ],
   "source": [
    "#En otro caso, en el que se necesiten personas con edad ya sea de 18 o 50 para darles un premio\n",
    "edad1 = 20\n",
    "edad2 = 15\n",
    "edad3 = 50\n",
    "\n",
    "if (edad1 == 18)or( edad1 == 50 ):\n",
    "    print(\"Edad válida para el premio\")\n",
    "else:\n",
    "    print(\"Edad inválida para el premio\")\n",
    "if (edad2 == 18)or( edad2 == 50 ):\n",
    "    print(\"Edad válida para el premio\")\n",
    "else:\n",
    "    print(\"Edad inválida para el premio\")\n",
    "if (edad3 == 18)or( edad3 == 50 ):\n",
    "    print(\"Edad válida para el premio\")\n",
    "else:\n",
    "    print(\"Edad inválida para el premio\")"
   ]
  }
 ],
 "metadata": {
  "interpreter": {
   "hash": "d349dc0bcd19b8ed19d1eb42a242dbe01b1f4983d289046147e069c2de6abaac"
  },
  "kernelspec": {
   "display_name": "Python 3.10.4 64-bit",
   "language": "python",
   "name": "python3"
  },
  "language_info": {
   "codemirror_mode": {
    "name": "ipython",
    "version": 3
   },
   "file_extension": ".py",
   "mimetype": "text/x-python",
   "name": "python",
   "nbconvert_exporter": "python",
   "pygments_lexer": "ipython3",
   "version": "3.10.4"
  },
  "orig_nbformat": 4
 },
 "nbformat": 4,
 "nbformat_minor": 2
}
