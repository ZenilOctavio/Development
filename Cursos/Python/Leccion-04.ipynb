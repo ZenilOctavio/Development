{
 "cells": [
  {
   "cell_type": "markdown",
   "metadata": {},
   "source": [
    "# LECCION 04"
   ]
  },
  {
   "cell_type": "markdown",
   "metadata": {},
   "source": [
    "## Uso de comillas\n",
    "Las comillas dejan en claro que el valor que estamos tratando es un str, pero hay dos tipos de comillas que funcionan con esa denotación: comillas simples(') y comillas dobles(\")."
   ]
  },
  {
   "cell_type": "code",
   "execution_count": 3,
   "metadata": {},
   "outputs": [
    {
     "name": "stdout",
     "output_type": "stream",
     "text": [
      "Cadena con comillas simples\n",
      "Cadena con comillas dobles\n",
      "Cadena con comillas simples y \"dobles\"\n",
      "Cadena con comillaas dobles y 'simples'\n"
     ]
    }
   ],
   "source": [
    "#Uso de las comillas \n",
    "comillasSi = 'Cadena con comillas simples'\n",
    "comillasDo = \"Cadena con comillas dobles\"\n",
    "\n",
    "print(comillasSi);\n",
    "print(comillasDo);\n",
    "#Ambas funcionaron\n",
    "\n",
    "comillasSi_Do = 'Cadena con comillas simples y \"dobles\"'\n",
    "comillasDo_Si = \"Cadena con comillaas dobles y 'simples'\"\n",
    "\n",
    "print(comillasSi_Do)\n",
    "print(comillasDo_Si)\n",
    "\n",
    "#Si utilizamos unas comillas y dentro de ellas colocamos las otras, las comillas superpuestas se quedan como caracter\n",
    "#perteneciente a la cadena"
   ]
  },
  {
   "cell_type": "markdown",
   "metadata": {},
   "source": [
    "## Saltos de línea\n",
    "Con python es posible decirle a consola que de un salto de línea de dos formas: \\n y \"\"\""
   ]
  },
  {
   "cell_type": "code",
   "execution_count": 5,
   "metadata": {},
   "outputs": [
    {
     "name": "stdout",
     "output_type": "stream",
     "text": [
      "Primer renglon\n",
      "Segundo renglon\n",
      "Tercer renglon\n"
     ]
    }
   ],
   "source": [
    "textoMultiLinea = \"Primer renglon\\nSegundo renglon\\nTercer renglon\"\n",
    "print(textoMultiLinea)"
   ]
  },
  {
   "cell_type": "code",
   "execution_count": 6,
   "metadata": {},
   "outputs": [
    {
     "name": "stdout",
     "output_type": "stream",
     "text": [
      "Este texto tendrá lineas multiples:\n",
      "Segundo renglon\n",
      "Tercer renglon\n"
     ]
    }
   ],
   "source": [
    "textoMultiLinea = \"\"\"Este texto tendrá lineas multiples:\n",
    "Segundo renglon\n",
    "Tercer renglon\"\"\"\n",
    "print(textoMultiLinea)"
   ]
  },
  {
   "cell_type": "markdown",
   "metadata": {},
   "source": [
    "## Métodos de strings"
   ]
  },
  {
   "cell_type": "code",
   "execution_count": 9,
   "metadata": {},
   "outputs": [
    {
     "name": "stdout",
     "output_type": "stream",
     "text": [
      "Texto Plano Sin Mayusculas\n"
     ]
    }
   ],
   "source": [
    "#Método title\n",
    "#Devuelve la cadena con mayusculas despues de cada espacio\n",
    "x = \"texto plano sin mayusculas\"\n",
    "print(x.title())"
   ]
  },
  {
   "cell_type": "code",
   "execution_count": 14,
   "metadata": {},
   "outputs": [
    {
     "name": "stdout",
     "output_type": "stream",
     "text": [
      "['Texto', 'cuyas', 'palabras', 'estan', 'separadas', 'por', 'espacios']\n"
     ]
    }
   ],
   "source": [
    "#Método split\n",
    "#Devuelve una lista con los caracteres separados por el ingresado\n",
    "x = \"Texto cuyas palabras estan separadas por espacios\"\n",
    "y = x.split(' ')    #Devuelve los conjutnos de caracteres separados por espacios\n",
    "print(y);"
   ]
  },
  {
   "cell_type": "code",
   "execution_count": 20,
   "metadata": {},
   "outputs": [
    {
     "name": "stdout",
     "output_type": "stream",
     "text": [
      "38\n",
      "p\n",
      "e\n",
      "r\n",
      "r\n",
      "o\n"
     ]
    }
   ],
   "source": [
    "#Método find\n",
    "#Devuelve el valor del indice se encuentra la cadena dentro, si no, -1\n",
    "x = \"Cadena con palabras clave como: pato, perro, pollo o puerco\"\n",
    "\n",
    "i = x.find(\"perro\")\n",
    "print(i)\n",
    "\n",
    "while i<=42:\n",
    "    print(x[i])\n",
    "    i += 1\n"
   ]
  },
  {
   "cell_type": "code",
   "execution_count": 22,
   "metadata": {},
   "outputs": [
    {
     "name": "stdout",
     "output_type": "stream",
     "text": [
      "4\n"
     ]
    }
   ],
   "source": [
    "#Método count\n",
    "#Devuelve la cantidad de veces que aparece dicha cadena en la otra\n",
    "x = \"Conjunto de palabras repetidas, palabras, mouse, vaso, perro, palablras, palabras, perro, vaso vaso vaso\"\n",
    "print(x.count(\"vaso\"))"
   ]
  },
  {
   "cell_type": "code",
   "execution_count": 26,
   "metadata": {},
   "outputs": [
    {
     "name": "stdout",
     "output_type": "stream",
     "text": [
      "Texto con mAyÚsculas y miNuSculAs cOmbinAdAS\n",
      "TEXTO CON MAYÚSCULAS Y MINUSCULAS COMBINADAS\n",
      "texto con mayúsculas y minusculas combinadas\n"
     ]
    }
   ],
   "source": [
    "#Método upper y lower\n",
    "#Devuelve la cadena con todas en mayusculas y minústulas respectivamente\n",
    "x = \"Texto con mAyÚsculas y miNuSculAs cOmbinAdAS\"\n",
    "print(x)\n",
    "print(x.upper())\n",
    "print(x.lower())"
   ]
  },
  {
   "cell_type": "code",
   "execution_count": 27,
   "metadata": {},
   "outputs": [
    {
     "name": "stdout",
     "output_type": "stream",
     "text": [
      "False\n",
      "True\n"
     ]
    }
   ],
   "source": [
    "#Método isnumeric\n",
    "#Devuelve True si todos los caracteres de la str son numéricos y False de lo contrario\n",
    "x = \".43231\"\n",
    "y = \"5165\"\n",
    "\n",
    "print(x.isnumeric())\n",
    "print(y.isnumeric())"
   ]
  },
  {
   "cell_type": "code",
   "execution_count": 28,
   "metadata": {},
   "outputs": [
    {
     "name": "stdout",
     "output_type": "stream",
     "text": [
      "True\n",
      "False\n"
     ]
    }
   ],
   "source": [
    "#Método endswith\n",
    "#Devuelve True si la cadena termina con lo especificado\n",
    "x = \"texto terminado con z\"\n",
    "print(x.endswith(\"z\"))\n",
    "print(x.endswith(\"r\"))"
   ]
  },
  {
   "cell_type": "code",
   "execution_count": 29,
   "metadata": {},
   "outputs": [
    {
     "name": "stdout",
     "output_type": "stream",
     "text": [
      "Cadena con letras específicas xxx\n",
      "Cadena con letras específicas yyy\n"
     ]
    }
   ],
   "source": [
    "#Método replace\n",
    "#Reelmplaza una cadena dentro de otra por otra\n",
    "x = \"Cadena con letras específicas xxx\"\n",
    "print(x)\n",
    "print(x.replace(\"x\",\"y\"))"
   ]
  },
  {
   "cell_type": "code",
   "execution_count": 39,
   "metadata": {},
   "outputs": [
    {
     "name": "stdout",
     "output_type": "stream",
     "text": [
      "['c', 'o', 'c', 'a', '-', 'c', 'o', 'l', 'a']\n",
      "coca-cola\n"
     ]
    }
   ],
   "source": [
    "#Método join\n",
    "#Une en una cadena los elementos de una list\n",
    "x = [\"c\",\"o\",\"c\",\"a\",\"-\",\"c\",\"o\",\"l\",\"a\"]\n",
    "\n",
    "y = \"\".join(x)\n",
    "\n",
    "print(x)\n",
    "print(y)\n"
   ]
  },
  {
   "cell_type": "code",
   "execution_count": 53,
   "metadata": {},
   "outputs": [
    {
     "name": "stdout",
     "output_type": "stream",
     "text": [
      "En %s hace mucho calor, pero igual, que bonito es %s\n",
      "hermosillo\n",
      "En hermosillo hace mucho calor, pero igual, que bonito es \n",
      "Me llamo Octavio, vivo en Hermosillo por la colonia Lirios, mi comida favoritaa es  el menudo\n",
      "Texto con formato\n",
      "Hola me llamo Octavio vivo en Hermosillo y me gusta mucho la sandía\n"
     ]
    }
   ],
   "source": [
    "#Método format\n",
    "#Permite introducir valores de una variable como formato a un string\n",
    "# x = \"En %s hace mucho calor, pero igual, que bonito es %s\"\n",
    "y = \"hermosillo\"\n",
    "\n",
    "print(x)\n",
    "print(y)\n",
    "print(\"En %s hace mucho calor, pero igual, que bonito es \"%y)\n",
    "#Solo sepuede utilizar una vez los valores introducidos, por lo que se pueden utilizar arreglos\n",
    "print(\"Me llamo %s, vivo en %s por la colonia %s, mi comida favoritaa es %s\"%(\"Octavio\",\"Hermosillo\",\"Lirios\",\" el menudo\"))\n",
    "\n",
    "#También funciona con {} introduciendo los indices\n",
    "print(\"{} con formato\".format(\"Texto\"))\n",
    "print(\"{0} me llamo {1} vivo en {3} y me gusta mucho {2}\".format(\"Hola\",\"Octavio\",\"la sandía\",\"Hermosillo\"))"
   ]
  },
  {
   "cell_type": "code",
   "execution_count": 60,
   "metadata": {},
   "outputs": [
    {
     "name": "stdout",
     "output_type": "stream",
     "text": [
      "La seguridad de un condon regular es de 95.0%\n"
     ]
    }
   ],
   "source": [
    "#Método round\n",
    "#Nos permite introducir valores porcentuales a nuestraa cadena\n",
    "x = 20/19 #Probabilidad\n",
    "\n",
    "print(f\"La seguridad de un condon regular es de {round(100/x,1)}%\")\n",
    "#Es necesario colocar la f del principio para que funcione"
   ]
  }
 ],
 "metadata": {
  "interpreter": {
   "hash": "d349dc0bcd19b8ed19d1eb42a242dbe01b1f4983d289046147e069c2de6abaac"
  },
  "kernelspec": {
   "display_name": "Python 3.10.4 64-bit",
   "language": "python",
   "name": "python3"
  },
  "language_info": {
   "codemirror_mode": {
    "name": "ipython",
    "version": 3
   },
   "file_extension": ".py",
   "mimetype": "text/x-python",
   "name": "python",
   "nbconvert_exporter": "python",
   "pygments_lexer": "ipython3",
   "version": "3.10.4"
  },
  "orig_nbformat": 4
 },
 "nbformat": 4,
 "nbformat_minor": 2
}
