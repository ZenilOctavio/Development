{
 "cells": [
  {
   "cell_type": "markdown",
   "metadata": {},
   "source": [
    "# LECCION 01"
   ]
  },
  {
   "cell_type": "markdown",
   "metadata": {},
   "source": [
    "## Trabajar con salidas"
   ]
  },
  {
   "cell_type": "markdown",
   "metadata": {},
   "source": [
    "Para emitir una salida con python, se puede con la función print()."
   ]
  },
  {
   "cell_type": "code",
   "execution_count": 5,
   "metadata": {},
   "outputs": [
    {
     "name": "stdout",
     "output_type": "stream",
     "text": [
      "Hola desde print\n",
      "Hola desde print  concatenado\n",
      "Hola desde print  concatenando una variable:  Valor de X como cadena\n",
      "Hola desde print  concatenando una variable:  15\n",
      "Hola desde print  concatenando una variable:  15.5\n",
      "Hola desde print  concatenando una variable:  15.5\n"
     ]
    }
   ],
   "source": [
    "print(\"Hola desde print\"); #Salida simple con print\n",
    "print(\"Hola desde print\",\" concatenado\"); #Salida desde print con concatenación\n",
    "x = \"Valor de X como cadena\";\n",
    "print(\"Hola desde print\",\" concatenando una variable: \",x); #Salida con print concatenada y una variable;\n",
    "x = 15; \n",
    "print(\"Hola desde print\",\" concatenando una variable: \",x); #Salida con print concatenada y una variable numérica (int);\n",
    "x = 15.5\n",
    "print(\"Hola desde print\",\" concatenando una variable: \",x); #Salida con print concatenada y una variable numérica (float);\n",
    "x = True;\n",
    "print(\"Hola desde print\",\" concatenando una variable: \",x); #Salida con print concatenada y una variable booleana;"
   ]
  },
  {
   "cell_type": "markdown",
   "metadata": {},
   "source": [
    "Para saber que tipo de dato guarda tu variable, utiliza type()"
   ]
  },
  {
   "cell_type": "code",
   "execution_count": 6,
   "metadata": {},
   "outputs": [
    {
     "name": "stdout",
     "output_type": "stream",
     "text": [
      "<class 'int'>\n",
      "<class 'float'>\n",
      "<class 'str'>\n",
      "<class 'bool'>\n"
     ]
    }
   ],
   "source": [
    "x = 15;\n",
    "print(type(x));\n",
    "x = 15.5;\n",
    "print(type(x));\n",
    "x = \"hola como estas\"\n",
    "print(type(x));\n",
    "x = False;\n",
    "print(type(x));"
   ]
  },
  {
   "cell_type": "markdown",
   "metadata": {},
   "source": [
    "## Operadores"
   ]
  },
  {
   "cell_type": "markdown",
   "metadata": {},
   "source": [
    "Los operadores nos permiten hacer operaciones con variables teniendo una estructura binaria: \n",
    "\n",
    "    (variable) <operador> (variable)\n",
    "\n",
    "    Esto anterior normalmente se asigna a variables o se utiliza para evaluar valores booleanos"
   ]
  },
  {
   "cell_type": "markdown",
   "metadata": {},
   "source": [
    "### Operadores aritméticos"
   ]
  },
  {
   "cell_type": "markdown",
   "metadata": {},
   "source": [
    "Los operadores aritméticos nos permiten realizar las operaciones aritméticas básicas: \n",
    "suma(+), resta(-), multiplicación(*) y división(/)."
   ]
  },
  {
   "cell_type": "code",
   "execution_count": 8,
   "metadata": {},
   "outputs": [
    {
     "name": "stdout",
     "output_type": "stream",
     "text": [
      "Para los valores de  6  y  2  respectivamente, sus operaciones aritméticas son:\n",
      "El resultado de la suma es:  8\n",
      "El resultado de la resta es:  4\n",
      "El resultado de la multiplicacion es:  12\n",
      "El resultado de la division es:  3.0\n"
     ]
    }
   ],
   "source": [
    "x = 6;\n",
    "y = 2;\n",
    "print(\"Para los valores de \",x,\" y \",y,\" respectivamente, sus operaciones aritméticas son:\");\n",
    "suma = x + y; #Realizamos la operación de suma\n",
    "print(\"El resultado de la suma es: \",suma);\n",
    "resta = x - y; #Realizamos la operación de resta\n",
    "print(\"El resultado de la resta es: \",resta);\n",
    "multiplicacion = x * y; #Realizamos la operación de multiplicación\n",
    "print(\"El resultado de la multiplicacion es: \",multiplicacion);\n",
    "division = x / y; #Realizamos la operación de división\n",
    "#La división da de vuelta automáticamente un valor flotante\n",
    "print(\"El resultado de la division es: \",division);"
   ]
  },
  {
   "cell_type": "markdown",
   "metadata": {},
   "source": [
    "### Operadores de asignación"
   ]
  },
  {
   "cell_type": "markdown",
   "metadata": {},
   "source": [
    "Con estos operadores es posible asignar de distintas formas un valor a una variable. "
   ]
  },
  {
   "cell_type": "code",
   "execution_count": 13,
   "metadata": {},
   "outputs": [
    {
     "name": "stdout",
     "output_type": "stream",
     "text": [
      "5\n",
      "15\n",
      "13\n",
      "39\n",
      "6.5\n"
     ]
    }
   ],
   "source": [
    "x = 5 #Esta es una asignación regular\n",
    "print(x); #Esta línea nos devolverá 5, debido a que es el valor que le fue asignado a x\n",
    "x += 10 \n",
    "print(x); #Esta línea nos devolverá 15, debido a que al valor de x le sumamos 10 y se lo asignamos a x\n",
    "x -= 2\n",
    "print(x) #Esta línea nos devolverá 13, debido a que al valor de x le restamos 2 y se lo asignamos a x\n",
    "x *= 3\n",
    "print(x) #Esta línea nos devolverá 39, debido a que al valor de x lo multiplicamos por 3 y se lo asignamos a x\n",
    "x /= 6\n",
    "print(x) #Esta línea nos devolverá 6.5, debido a que al valor de x lo dividimos entre 6 y se lo asignamos a x"
   ]
  },
  {
   "cell_type": "markdown",
   "metadata": {},
   "source": [
    "## Fechas"
   ]
  },
  {
   "cell_type": "markdown",
   "metadata": {},
   "source": [
    "Es posible declarar fechas con python, esto gracias a la clase datetime, la cual necesita ser importada para ser utilizada."
   ]
  },
  {
   "cell_type": "code",
   "execution_count": 17,
   "metadata": {},
   "outputs": [
    {
     "name": "stdout",
     "output_type": "stream",
     "text": [
      "2022-05-21\n",
      "2022-05-21\n"
     ]
    }
   ],
   "source": [
    "from datetime import date\n",
    "\n",
    "date.today() #Así podemos hacer referencia a la fecha de hoy\n",
    "\n",
    "print(date.today()); #Tabién es posible imprimir la fecha\n",
    "\n",
    "x = date.today(); #Así le estamos asignando el valor de hoy a la variable x\n",
    "\n",
    "print(x); # y la podemos imprimir"
   ]
  },
  {
   "cell_type": "markdown",
   "metadata": {},
   "source": [
    "## Cambio de tipo de dato"
   ]
  },
  {
   "cell_type": "markdown",
   "metadata": {},
   "source": [
    "Es posible hacer cambio de tipos de datos, con cada uno, como int, float, str y bool."
   ]
  },
  {
   "cell_type": "code",
   "execution_count": 23,
   "metadata": {},
   "outputs": [
    {
     "name": "stdout",
     "output_type": "stream",
     "text": [
      "15 <class 'str'>\n",
      "15 <class 'int'>\n",
      "15.0 <class 'float'>\n",
      "True <class 'bool'>\n"
     ]
    }
   ],
   "source": [
    "x = \"15\";\n",
    "print(x,type(x));   #Imprimirá a x con su tipo, en este caso 15-str \n",
    "x = int(x); #Con esta línea estoy asignando a x su valor, pero como un int\n",
    "print(x,type(x));   #Imprimirá 15-int\n",
    "x = float(x);   #Con esta línea estoy asignando a x su valor, pero como un float\n",
    "print(x,type(x));   #Imprimirá 15.0-float\n",
    "x = bool(x);    #Con esta línea estoy asignando a x su valor, pero como un bool\n",
    "print(x,type(x));   #Imprimirá True-bool, debido a que cualquier valor numérico(int o float) distinto de 0\n",
    "                    #Se le es asignado el valor de True cuando se transforma a bool"
   ]
  },
  {
   "cell_type": "markdown",
   "metadata": {},
   "source": [
    "Con el uso de fechas, es posible que queramos concatenar dos str, una siendo un texto y otra una fecha, por lo que no se podrá realizar tal concatenación:"
   ]
  },
  {
   "cell_type": "code",
   "execution_count": 29,
   "metadata": {},
   "outputs": [
    {
     "name": "stdout",
     "output_type": "stream",
     "text": [
      "La fecha del día de hoy es: 2022-05-21\n"
     ]
    }
   ],
   "source": [
    "from datetime import date\n",
    "#La forma correcta de imprimir un texto y una fecha dentro de una sola variable es así\n",
    "#x = \"La fecha del día de hoy es: \"+date.today(); Esta forma arrojaría error\n",
    "x = \"La fecha del día de hoy es: \"+str(date.today());\n",
    "print(x);"
   ]
  },
  {
   "cell_type": "markdown",
   "metadata": {},
   "source": [
    "## Recopilar información - Entrada del usuario"
   ]
  },
  {
   "cell_type": "markdown",
   "metadata": {},
   "source": [
    "En python es posible ingresar valores desde la consola con la función input(), la cual tiene incluído un print."
   ]
  },
  {
   "cell_type": "code",
   "execution_count": null,
   "metadata": {},
   "outputs": [],
   "source": [
    "#Programa para ingresar valor e imprimirlo\n",
    "x = input(\"Ingrese el valor de X\");\n",
    "print(x);"
   ]
  },
  {
   "cell_type": "markdown",
   "metadata": {},
   "source": [
    "Hay que tomar en cuanta que input() tiene como tipo de dato de retorno un str, por lo que si se planea trabajar con operadores aritméticos en los números ingresados, es necesario que se tranforme el dato."
   ]
  },
  {
   "cell_type": "code",
   "execution_count": 26,
   "metadata": {},
   "outputs": [],
   "source": [
    "#Programa para ingresar dos valores, sumarlos e imprimirlos - caso erróneo\n",
    "x = input(\"Ingrese el primer valor: \");\n",
    "y = input(\"Ingrese el segundo valor: \");\n",
    "\n",
    "suma = x + y;\n",
    "\n",
    "print(suma);    #Este print solo devolverá la concatenación de los dos valores ingresados como str\n"
   ]
  },
  {
   "cell_type": "code",
   "execution_count": null,
   "metadata": {},
   "outputs": [],
   "source": [
    "#Programa para ingresar dos valores, sumarlos e imprimirlos - caso erróneo\n",
    "x = input(\"Ingrese el primer valor: \");\n",
    "y = input(\"Ingrese el segundo valor: \");\n",
    "\n",
    "suma = int(x) + int(y);\n",
    "\n",
    "print(suma);    #Este caso devolverá una suma aritmética de los dos valores, tomados como int"
   ]
  }
 ],
 "metadata": {
  "interpreter": {
   "hash": "d349dc0bcd19b8ed19d1eb42a242dbe01b1f4983d289046147e069c2de6abaac"
  },
  "kernelspec": {
   "display_name": "Python 3.10.4 64-bit",
   "language": "python",
   "name": "python3"
  },
  "language_info": {
   "codemirror_mode": {
    "name": "ipython",
    "version": 3
   },
   "file_extension": ".py",
   "mimetype": "text/x-python",
   "name": "python",
   "nbconvert_exporter": "python",
   "pygments_lexer": "ipython3",
   "version": "3.10.4"
  },
  "orig_nbformat": 4
 },
 "nbformat": 4,
 "nbformat_minor": 2
}
