{
 "cells": [
  {
   "cell_type": "markdown",
   "metadata": {},
   "source": [
    "# LECCION 05"
   ]
  },
  {
   "cell_type": "markdown",
   "metadata": {},
   "source": [
    "## Operaciones matemáticas"
   ]
  },
  {
   "cell_type": "markdown",
   "metadata": {},
   "source": [
    "### Operadores aritméticos"
   ]
  },
  {
   "cell_type": "code",
   "execution_count": 1,
   "metadata": {},
   "outputs": [
    {
     "name": "stdout",
     "output_type": "stream",
     "text": [
      "30\n"
     ]
    }
   ],
   "source": [
    "#Suma\n",
    "x = 15+15\n",
    "print(x)"
   ]
  },
  {
   "cell_type": "code",
   "execution_count": 2,
   "metadata": {},
   "outputs": [
    {
     "name": "stdout",
     "output_type": "stream",
     "text": [
      "5\n"
     ]
    }
   ],
   "source": [
    "#Resta\n",
    "x = 15-10\n",
    "print(x)"
   ]
  },
  {
   "cell_type": "code",
   "execution_count": 3,
   "metadata": {},
   "outputs": [
    {
     "name": "stdout",
     "output_type": "stream",
     "text": [
      "6\n"
     ]
    }
   ],
   "source": [
    "#Multiplicación\n",
    "x = 2*3\n",
    "print(x)"
   ]
  },
  {
   "cell_type": "code",
   "execution_count": 6,
   "metadata": {},
   "outputs": [
    {
     "name": "stdout",
     "output_type": "stream",
     "text": [
      "3.0\n",
      "2\n",
      "1\n"
     ]
    }
   ],
   "source": [
    "#Division\n",
    "x = 6/2\n",
    "print(x)\n",
    "\n",
    "x = 5//2    #Así redondeo hacia abajo\n",
    "print(x)\n",
    "x = 5%2     #Así obtengo el módulo\n",
    "print(x)"
   ]
  },
  {
   "cell_type": "markdown",
   "metadata": {},
   "source": [
    "### Jerarquía de operaciones"
   ]
  },
  {
   "cell_type": "markdown",
   "metadata": {},
   "source": [
    "<p>1- Parentesis</p>\n",
    "<p>2- Exponentes</p>\n",
    "<p>3- Multiplicaciones y divisiones</p>\n",
    "<p>4- Sumas y restas</p>"
   ]
  },
  {
   "cell_type": "markdown",
   "metadata": {},
   "source": [
    "### Transformar str a numericos"
   ]
  },
  {
   "cell_type": "code",
   "execution_count": null,
   "metadata": {},
   "outputs": [],
   "source": [
    "#Para transformar a int\n",
    "cadena = \"7512\"\n",
    "entero = int(cadena)\n",
    "#Para transformar a float\n",
    "flotante = float(cadena)\n"
   ]
  },
  {
   "cell_type": "markdown",
   "metadata": {},
   "source": [
    "### Metodos importantes"
   ]
  },
  {
   "cell_type": "code",
   "execution_count": 7,
   "metadata": {},
   "outputs": [
    {
     "name": "stdout",
     "output_type": "stream",
     "text": [
      "-50\n",
      "50\n"
     ]
    }
   ],
   "source": [
    "#Método abs\n",
    "#Nos permite obtener el valor absoluto de un valor numérico\n",
    "x = -50\n",
    "print(x)\n",
    "X = abs(x)\n",
    "print(X)"
   ]
  },
  {
   "cell_type": "code",
   "execution_count": 10,
   "metadata": {},
   "outputs": [
    {
     "name": "stdout",
     "output_type": "stream",
     "text": [
      "12\n",
      "12\n",
      "13\n"
     ]
    }
   ],
   "source": [
    "#Método round\n",
    "x = 12.3\n",
    "y = 12.5\n",
    "z = 12.7\n",
    "print(round(x))\n",
    "print(round(y))\n",
    "print(round(z))"
   ]
  },
  {
   "cell_type": "code",
   "execution_count": 12,
   "metadata": {},
   "outputs": [
    {
     "name": "stdout",
     "output_type": "stream",
     "text": [
      "16\n",
      "15\n"
     ]
    }
   ],
   "source": [
    "#Métodos de redondeo de Math\n",
    "from math import ceil, floor\n",
    "# ceil nos permite redondear haciaa arriba\n",
    "# mientras que floor hacia abajo\n",
    "x = 15.5\n",
    "c = ceil(x)\n",
    "f = floor(x)\n",
    "print(c)\n",
    "print(f)"
   ]
  }
 ],
 "metadata": {
  "interpreter": {
   "hash": "d349dc0bcd19b8ed19d1eb42a242dbe01b1f4983d289046147e069c2de6abaac"
  },
  "kernelspec": {
   "display_name": "Python 3.10.4 64-bit",
   "language": "python",
   "name": "python3"
  },
  "language_info": {
   "codemirror_mode": {
    "name": "ipython",
    "version": 3
   },
   "file_extension": ".py",
   "mimetype": "text/x-python",
   "name": "python",
   "nbconvert_exporter": "python",
   "pygments_lexer": "ipython3",
   "version": "3.10.4"
  },
  "orig_nbformat": 4
 },
 "nbformat": 4,
 "nbformat_minor": 2
}
